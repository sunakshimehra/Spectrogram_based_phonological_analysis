{
 "cells": [
  {
   "cell_type": "code",
   "execution_count": 1,
   "metadata": {},
   "outputs": [],
   "source": [
    "import os\n",
    "import pandas as pd\n",
    "from PIL import Image\n",
    "from datasets import load_dataset, Dataset, DatasetDict\n",
    "from sklearn.model_selection import train_test_split"
   ]
  },
  {
   "cell_type": "code",
   "execution_count": 5,
   "metadata": {},
   "outputs": [],
   "source": [
    "for subfolder in os.listdir(\"Spectograms\"):\n",
    "    subfolder_path = os.path.join(\"Spectograms\",subfolder)\n",
    "    for image_file in os.listdir(subfolder_path):\n",
    "        image_path = os.path.join(subfolder_path, image_file)\n",
    "        image = Image.open(image_path)\n",
    "        image = image.convert(\"RGB\")\n",
    "        image.save(image_path)"
   ]
  },
  {
   "cell_type": "code",
   "execution_count": 6,
   "metadata": {},
   "outputs": [],
   "source": [
    "root_dir = 'Spectograms'\n",
    "image_paths = []\n",
    "images = []\n",
    "labels = []\n",
    "\n",
    "for subfolder in os.listdir(root_dir):\n",
    "    subfolder_path = os.path.join(root_dir, subfolder)\n",
    "    if os.path.isdir(subfolder_path):\n",
    "        # Iterate through the images within each subfolder\n",
    "        for image_file in os.listdir(subfolder_path):\n",
    "            image_path = os.path.join(subfolder_path, image_file)\n",
    "            \n",
    "            # Load the image\n",
    "            image = Image.open(image_path)\n",
    "            # image = image.convert(\"RGB\")\n",
    "            # Append the data to the respective lists\n",
    "            image_paths.append(image_path)\n",
    "            images.append(image)\n",
    "            labels.append(subfolder)\n",
    "            image.close()\n",
    "\n",
    "data = {'Image Path': image_paths, 'Image': images, 'Label': labels}"
   ]
  },
  {
   "cell_type": "code",
   "execution_count": 7,
   "metadata": {},
   "outputs": [],
   "source": [
    "dataset = Dataset.from_dict(data)"
   ]
  },
  {
   "cell_type": "code",
   "execution_count": 9,
   "metadata": {},
   "outputs": [
    {
     "data": {
      "text/plain": [
       "DatasetDict({\n",
       "    train: Dataset({\n",
       "        features: ['Image Path', 'Image', 'Label'],\n",
       "        num_rows: 18340\n",
       "    })\n",
       "    test: Dataset({\n",
       "        features: ['Image Path', 'Image', 'Label'],\n",
       "        num_rows: 6114\n",
       "    })\n",
       "})"
      ]
     },
     "execution_count": 9,
     "metadata": {},
     "output_type": "execute_result"
    }
   ],
   "source": [
    "dataset  = dataset.train_test_split(test_size=0.25, shuffle=True)\n",
    "dataset"
   ]
  },
  {
   "cell_type": "code",
   "execution_count": 10,
   "metadata": {},
   "outputs": [
    {
     "data": {
      "application/vnd.jupyter.widget-view+json": {
       "model_id": "9dbae93886384093ba92b09aa0b90b79",
       "version_major": 2,
       "version_minor": 0
      },
      "text/plain": [
       "Saving the dataset (0/1 shards):   0%|          | 0/18340 [00:00<?, ? examples/s]"
      ]
     },
     "metadata": {},
     "output_type": "display_data"
    },
    {
     "data": {
      "application/vnd.jupyter.widget-view+json": {
       "model_id": "ff64b84796894e4ba5aa4f73ab09e6f5",
       "version_major": 2,
       "version_minor": 0
      },
      "text/plain": [
       "Saving the dataset (0/1 shards):   0%|          | 0/6114 [00:00<?, ? examples/s]"
      ]
     },
     "metadata": {},
     "output_type": "display_data"
    }
   ],
   "source": [
    "dataset.save_to_disk(\"Data\")"
   ]
  }
 ],
 "metadata": {
  "kernelspec": {
   "display_name": "Python 3",
   "language": "python",
   "name": "python3"
  },
  "language_info": {
   "codemirror_mode": {
    "name": "ipython",
    "version": 3
   },
   "file_extension": ".py",
   "mimetype": "text/x-python",
   "name": "python",
   "nbconvert_exporter": "python",
   "pygments_lexer": "ipython3",
   "version": "3.10.10"
  },
  "orig_nbformat": 4
 },
 "nbformat": 4,
 "nbformat_minor": 2
}
